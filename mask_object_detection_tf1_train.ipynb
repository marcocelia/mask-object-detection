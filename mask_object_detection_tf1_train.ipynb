{
  "nbformat": 4,
  "nbformat_minor": 0,
  "metadata": {
    "colab": {
      "name": "mask-object-detection-tf1-train.ipynb",
      "provenance": [],
      "collapsed_sections": [
        "19HrNfhqkH7C"
      ]
    },
    "kernelspec": {
      "name": "python3",
      "display_name": "Python 3",
      "language": "python"
    },
    "accelerator": "TPU"
  },
  "cells": [
    {
      "cell_type": "markdown",
      "metadata": {
        "id": "q6Tti67UjwW4"
      },
      "source": [
        "# **Mask Object Detection - Training**"
      ]
    },
    {
      "cell_type": "markdown",
      "metadata": {
        "id": "GGAg_0b-j-U4"
      },
      "source": [
        "## **Environment**"
      ]
    },
    {
      "cell_type": "markdown",
      "metadata": {
        "id": "19HrNfhqkH7C"
      },
      "source": [
        "### **Required libs**"
      ]
    },
    {
      "cell_type": "code",
      "metadata": {
        "id": "Ep9aqUgbj4mJ"
      },
      "source": [
        "%tensorflow_version 2.x\n",
        "!pip uninstall -y tensorflow tensorboard tensorflow-estimator tensorboard-plugin-wit\n",
        "!pip install tensorflow-gpu==1.14.0 tensorboard==1.14.0 tensorflow-estimator==1.14.0 "
      ],
      "execution_count": null,
      "outputs": []
    },
    {
      "cell_type": "code",
      "metadata": {
        "id": "bJzdgsyZkxU7"
      },
      "source": [
        "!pip install -q pillow lxml jupyter matplotlib cython pandas contextlib2\n",
        "!apt-get install -qq protobuf-compiler\n",
        "!pip install -q pycocotools tf_slim"
      ],
      "execution_count": null,
      "outputs": []
    },
    {
      "cell_type": "markdown",
      "metadata": {
        "id": "KqtT31nPn2bH"
      },
      "source": [
        "### **Configurations**"
      ]
    },
    {
      "cell_type": "code",
      "metadata": {
        "id": "wr7SxvuHn1vq"
      },
      "source": [
        "import os\n",
        "\n",
        "# Repo URL\n",
        "repo_url = 'https://github.com/marcocelia/mask-object-detection'\n",
        "\n",
        "# Models\n",
        "MODELS_CONFIG = {\n",
        "    'ssd_inception_v2_coco': {\n",
        "        'model_name': 'ssd_inception_v2_coco_2018_01_28',\n",
        "        'model_path': '/models/tf1/my_ssd_inception_v2_coco/',\n",
        "        'pipeline_file': 'pipeline.config'\n",
        "    },\n",
        "    'faster_rcnn_inception_v2_coco': {\n",
        "        'model_name': 'faster_rcnn_inception_v2_coco_2018_01_28',\n",
        "        'model_path': '/models/tf1/my_faster_rcnn_inception_v2_coco/',\n",
        "        'pipeline_file': 'pipeline.config'        \n",
        "    }\n",
        "}\n",
        "\n",
        "# Select a model to use.\n",
        "selected_model = 'faster_rcnn_inception_v2_coco'\n",
        "\n",
        "model_name = MODELS_CONFIG[selected_model]['model_name']\n",
        "model_path = MODELS_CONFIG[selected_model]['model_path']\n",
        "pipeline_file = MODELS_CONFIG[selected_model]['pipeline_file']\n",
        "\n",
        "# Set Repository Home Directory\n",
        "base_dir = '/content/drive/MyDrive/'\n",
        "repo_dir_path = os.path.abspath(os.path.join(base_dir, os.path.basename(repo_url)))\n",
        "\n",
        "# Set Label Map (.pbtxt) path and pipeline.config path\n",
        "label_map_pbtxt_fname = repo_dir_path + '/annotations/label_map.pbtxt'\n",
        "pipeline_fname = repo_dir_path + model_path + pipeline_file\n",
        "\n",
        "# Set .record path\n",
        "test_record_fname = repo_dir_path + '/annotations/test.record'\n",
        "train_record_fname = repo_dir_path + '/annotations/train.record'\n",
        "\n",
        "# Set output directories and clean up\n",
        "model_dir = repo_dir_path + '/training/'\n",
        "output_dir = repo_dir_path + '/exported-models/'\n",
        "\n",
        "print(f'repo_dir_path: {repo_dir_path}')\n",
        "print(f'model_dir: {model_dir}')\n",
        "print(f'pipeline_fname: {pipeline_fname}')\n",
        "print(f'output_dir: {output_dir}')"
      ],
      "execution_count": null,
      "outputs": []
    },
    {
      "cell_type": "markdown",
      "metadata": {
        "id": "n3yLH5NTvhcP"
      },
      "source": [
        "### **Clone TF model repo**"
      ]
    },
    {
      "cell_type": "code",
      "metadata": {
        "id": "DpJJ5-VDvota"
      },
      "source": [
        "%cd /content\n",
        "!git clone --quiet -b r1.13.0 https://github.com/tensorflow/models.git\n",
        "\n",
        "%cd /content/models/research\n",
        "!protoc object_detection/protos/*.proto --python_out=.\n",
        "\n",
        "import os\n",
        "os.environ['PYTHONPATH'] += ':/content/models/research/:/content/models/research/slim/'\n",
        "\n",
        "!pip install .\n",
        "\n",
        "# Test\n",
        "!python object_detection/builders/model_builder_test.py"
      ],
      "execution_count": null,
      "outputs": []
    },
    {
      "cell_type": "markdown",
      "metadata": {
        "id": "n82Ffqi7o-m8"
      },
      "source": [
        "### **Install COCO evaluation metrics**"
      ]
    },
    {
      "cell_type": "code",
      "metadata": {
        "id": "WnRFNQsipHZW"
      },
      "source": [
        "# Coco Installation (Optional, required when using Coco Evaluation)\n",
        "%cd /content\n",
        "!git clone --quiet https://github.com/cocodataset/cocoapi.git\n",
        "%cd cocoapi/PythonAPI\n",
        "!make\n",
        "!cp -r pycocotools /content/models/research/"
      ],
      "execution_count": null,
      "outputs": []
    },
    {
      "cell_type": "markdown",
      "metadata": {
        "id": "_C4ZYfIrwdgo"
      },
      "source": [
        "### **Download pretrained model**"
      ]
    },
    {
      "cell_type": "code",
      "metadata": {
        "id": "KWShV93NwiLy"
      },
      "source": [
        "%cd /content/models/research\n",
        "%rm -rf pretrained_model/\n",
        "\n",
        "import os\n",
        "import shutil\n",
        "import glob\n",
        "import urllib.request\n",
        "import tarfile\n",
        "\n",
        "MODEL_FILE = model_name + '.tar.gz'\n",
        "DOWNLOAD_BASE = 'http://download.tensorflow.org/models/object_detection/'\n",
        "DEST_DIR = '/content/models/research/pretrained_model/'\n",
        "\n",
        "if not (os.path.exists(MODEL_FILE)):\n",
        "    urllib.request.urlretrieve(DOWNLOAD_BASE + MODEL_FILE, MODEL_FILE)\n",
        "\n",
        "tar = tarfile.open(MODEL_FILE)\n",
        "tar.extractall()\n",
        "tar.close()\n",
        "\n",
        "os.remove(MODEL_FILE)\n",
        "if (os.path.exists(DEST_DIR)):\n",
        "    shutil.rmtree(DEST_DIR)\n",
        "os.rename(model_name, DEST_DIR)\n",
        "\n",
        "# Check downloaded files\n",
        "!echo {DEST_DIR}\n",
        "!ls -alh {DEST_DIR}\n",
        "\n",
        "# Set fine tune checkpoint\n",
        "fine_tune_checkpoint = os.path.join(DEST_DIR, \"model.ckpt\")\n",
        "print(\"fine_tune_checkpoint: \", fine_tune_checkpoint)"
      ],
      "execution_count": null,
      "outputs": []
    },
    {
      "cell_type": "markdown",
      "metadata": {
        "id": "HiMK3dbO0E9i"
      },
      "source": [
        "### **Clone project repository**"
      ]
    },
    {
      "cell_type": "code",
      "metadata": {
        "id": "HYCEU01E0LIy"
      },
      "source": [
        "import os\n",
        "%cd {base_dir}\n",
        "\n",
        "# Clean up\n",
        "!rm -rf {repo_dir_path}\n",
        "\n",
        "# Clone\n",
        "!git clone {repo_url}\n",
        "\n",
        "# Pull (just in case the repo already exists)\n",
        "%cd {repo_dir_path}\n",
        "!git pull\n",
        "\n",
        "# # Check if label map and pipeline files exist\n",
        "assert os.path.isfile(label_map_pbtxt_fname), '`{}` not exist'.format(label_map_pbtxt_fname)\n",
        "assert os.path.isfile(pipeline_fname), '`{}` not exist'.format(pipeline_fname)\n",
        "\n",
        "!rm -rf {model_dir} {output_dir}\n",
        "os.makedirs(model_dir, exist_ok=True)\n",
        "os.makedirs(output_dir, exist_ok=True)"
      ],
      "execution_count": null,
      "outputs": []
    },
    {
      "cell_type": "markdown",
      "metadata": {
        "id": "NSu4hUS-2oB-"
      },
      "source": [
        "## **Prepare dataset**"
      ]
    },
    {
      "cell_type": "markdown",
      "metadata": {
        "id": "v4a0_QSd2wV0"
      },
      "source": [
        "### **Split train/test**"
      ]
    },
    {
      "cell_type": "code",
      "metadata": {
        "id": "GuQUHC892sVE"
      },
      "source": [
        "%cd {repo_dir_path}\n",
        "\n",
        "# Split images to train:test = 9:1\n",
        "!python scripts/partition_dataset.py -x -i images/ -r 0.1\n",
        "\n",
        "# Check test images\n",
        "!ls images/test"
      ],
      "execution_count": null,
      "outputs": []
    },
    {
      "cell_type": "markdown",
      "metadata": {
        "id": "8mlY9-WR28Le"
      },
      "source": [
        "### **xml to csv**"
      ]
    },
    {
      "cell_type": "code",
      "metadata": {
        "id": "DZqONePl3Ab6"
      },
      "source": [
        "# Create train data:\n",
        "!python scripts/xml_to_csv.py -i images/train -o annotations/train_labels.csv\n",
        "\n",
        "# Create test data:\n",
        "!python scripts/xml_to_csv.py -i images/test -o annotations/test_labels.csv"
      ],
      "execution_count": null,
      "outputs": []
    },
    {
      "cell_type": "markdown",
      "metadata": {
        "id": "dkfy5oq2Gs3s"
      },
      "source": [
        "### **Create TF record**"
      ]
    },
    {
      "cell_type": "code",
      "metadata": {
        "id": "DQs51LyyHBsH"
      },
      "source": [
        "!cat {label_map_pbtxt_fname}"
      ],
      "execution_count": null,
      "outputs": []
    },
    {
      "cell_type": "code",
      "metadata": {
        "id": "T01mAZDEHHkV"
      },
      "source": [
        "# Create train data:\n",
        "!python scripts/generate_tfrecord_v1.py \\\n",
        "    --csv_input=annotations/train_labels.csv \\\n",
        "    --output_path=annotations/train.record \\\n",
        "    --img_path=images/train \\\n",
        "    --label_map annotations/label_map.pbtxt\n",
        "\n",
        "# Create test data:\n",
        "!python scripts/generate_tfrecord_v1.py \\\n",
        "    --csv_input=annotations/test_labels.csv \\\n",
        "    --output_path=annotations/test.record \\\n",
        "    --img_path=images/test \\\n",
        "    --label_map annotations/label_map.pbtxt"
      ],
      "execution_count": null,
      "outputs": []
    },
    {
      "cell_type": "code",
      "metadata": {
        "id": "n4b_nrgPHXO9"
      },
      "source": [
        "# Check\n",
        "assert os.path.isfile(test_record_fname), '`{}` not exist'.format(test_record_fname)\n",
        "assert os.path.isfile(train_record_fname), '`{}` not exist'.format(train_record_fname)"
      ],
      "execution_count": null,
      "outputs": []
    },
    {
      "cell_type": "markdown",
      "metadata": {
        "id": "F0m22aqHH5xU"
      },
      "source": [
        "## **Training**"
      ]
    },
    {
      "cell_type": "code",
      "metadata": {
        "id": "JW4mgZfqZeq5"
      },
      "source": [
        "# train config\n",
        "!cat {pipeline_fname}"
      ],
      "execution_count": null,
      "outputs": []
    },
    {
      "cell_type": "markdown",
      "metadata": {
        "id": "EzOUvDxmIMM3"
      },
      "source": [
        "### **Tensorboard**"
      ]
    },
    {
      "cell_type": "code",
      "metadata": {
        "id": "lT2h9avoIAYW"
      },
      "source": [
        "# Set log directory for tensorboard to watch\n",
        "LOG_DIR = model_dir\n",
        "\n",
        "# Clean up the directory\n",
        "!rm -rf {LOG_DIR}/*\n",
        "!ls -lrt {LOG_DIR}"
      ],
      "execution_count": null,
      "outputs": []
    },
    {
      "cell_type": "code",
      "metadata": {
        "id": "WfDG6rSV_Njh"
      },
      "source": [
        "# Use magic command to launch tensorboard within the notebook\n",
        "%load_ext tensorboard\n",
        "%tensorboard --logdir {LOG_DIR}"
      ],
      "execution_count": null,
      "outputs": []
    },
    {
      "cell_type": "markdown",
      "metadata": {
        "id": "zAnC1V7PJBIM"
      },
      "source": [
        "### **Train**"
      ]
    },
    {
      "cell_type": "code",
      "metadata": {
        "id": "ROR1LponJF8L"
      },
      "source": [
        "%cd {repo_dir_path}\n",
        "!git pull"
      ],
      "execution_count": null,
      "outputs": []
    },
    {
      "cell_type": "code",
      "metadata": {
        "id": "WdhdOPj-JLDs"
      },
      "source": [
        "%cd {repo_dir_path}\n",
        "!python /content/models/research/object_detection/model_main.py \\\n",
        "    --pipeline_config_path={pipeline_fname} \\\n",
        "    --model_dir={model_dir} \\\n",
        "    --alsologtostderr"
      ],
      "execution_count": null,
      "outputs": []
    },
    {
      "cell_type": "code",
      "metadata": {
        "id": "jooG91EVSK6j"
      },
      "source": [
        "# Check the generated files\n",
        "!ls -lrt {model_dir}"
      ],
      "execution_count": null,
      "outputs": []
    },
    {
      "cell_type": "code",
      "metadata": {
        "id": "flXUWrE0SSq7"
      },
      "source": [
        "# Archive all the output\n",
        "%cd {repo_dir_path}\n",
        "!tar zcvf {selected_model}_train.tar.gz {model_dir}"
      ],
      "execution_count": null,
      "outputs": []
    },
    {
      "cell_type": "code",
      "metadata": {
        "id": "1V0eSggEScpP"
      },
      "source": [
        "# Download the archive\n",
        "from google.colab import files\n",
        "files.download(f'{selected_model}_train.tar.gz')"
      ],
      "execution_count": null,
      "outputs": []
    },
    {
      "cell_type": "markdown",
      "metadata": {
        "id": "fKq1XLznUDdR"
      },
      "source": [
        "## **Export**"
      ]
    },
    {
      "cell_type": "markdown",
      "metadata": {
        "id": "BxF7xAKjV2jW"
      },
      "source": [
        "### **Make trained model**"
      ]
    },
    {
      "cell_type": "code",
      "metadata": {
        "id": "zIbCPIu5UKsL"
      },
      "source": [
        "%cd {repo_dir_path}\n",
        "import re\n",
        "import numpy as np\n",
        "\n",
        "lst = os.listdir(model_dir)\n",
        "lst = [l for l in lst if 'model.ckpt-' in l and '.meta' in l]\n",
        "steps=np.array([int(re.findall('\\d+', l)[0]) for l in lst])\n",
        "last_model = lst[steps.argmax()].replace('.meta', '')\n",
        "last_model_path = os.path.join(model_dir, last_model)\n",
        "\n",
        "!python /content/models/research/object_detection/export_inference_graph.py \\\n",
        "    --input_type=image_tensor \\\n",
        "    --pipeline_config_path={pipeline_fname} \\\n",
        "    --output_directory={output_dir} \\\n",
        "    --trained_checkpoint_prefix={last_model_path}"
      ],
      "execution_count": null,
      "outputs": []
    },
    {
      "cell_type": "code",
      "metadata": {
        "id": "iyB-YRnhRdV5"
      },
      "source": [
        "# Check the output files\n",
        "!echo {output_dir}\n",
        "!ls -lsr {output_dir}"
      ],
      "execution_count": null,
      "outputs": []
    },
    {
      "cell_type": "markdown",
      "metadata": {
        "id": "bx4nsDugWBlD"
      },
      "source": [
        "### **Download archive**"
      ]
    },
    {
      "cell_type": "code",
      "metadata": {
        "id": "0unN2ohHWNXd"
      },
      "source": [
        "%cd {repo_dir_path}\n",
        "!tar zcvf {selected_model}_finetuned.tar.gz {output_dir}"
      ],
      "execution_count": null,
      "outputs": []
    },
    {
      "cell_type": "code",
      "metadata": {
        "id": "BELyk6QqWpnE"
      },
      "source": [
        "# Download the .tar.gz archive \n",
        "from google.colab import files\n",
        "files.download(f'{selected_model}_finetuned.tar.gz')"
      ],
      "execution_count": null,
      "outputs": []
    }
  ]
}